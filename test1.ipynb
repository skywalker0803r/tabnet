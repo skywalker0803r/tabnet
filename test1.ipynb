{
 "cells": [
  {
   "cell_type": "code",
   "execution_count": 75,
   "source": [
    "from pytorch_tabnet.tab_model import TabNetRegressor\r\n",
    "from sklearn.datasets import load_boston\r\n",
    "import pandas as pd\r\n",
    "from sklearn.preprocessing import StandardScaler\r\n",
    "from sklearn.utils import shuffle\r\n",
    "\r\n",
    "data = load_boston()\r\n",
    "X = pd.DataFrame(data.data,columns=data.feature_names)\r\n",
    "Y = pd.DataFrame(data.target,columns=['price'])\r\n",
    "X.join(Y).head()"
   ],
   "outputs": [
    {
     "output_type": "execute_result",
     "data": {
      "text/plain": [
       "      CRIM    ZN  INDUS  CHAS    NOX     RM   AGE     DIS  RAD    TAX  \\\n",
       "0  0.00632  18.0   2.31   0.0  0.538  6.575  65.2  4.0900  1.0  296.0   \n",
       "1  0.02731   0.0   7.07   0.0  0.469  6.421  78.9  4.9671  2.0  242.0   \n",
       "2  0.02729   0.0   7.07   0.0  0.469  7.185  61.1  4.9671  2.0  242.0   \n",
       "3  0.03237   0.0   2.18   0.0  0.458  6.998  45.8  6.0622  3.0  222.0   \n",
       "4  0.06905   0.0   2.18   0.0  0.458  7.147  54.2  6.0622  3.0  222.0   \n",
       "\n",
       "   PTRATIO       B  LSTAT  price  \n",
       "0     15.3  396.90   4.98   24.0  \n",
       "1     17.8  396.90   9.14   21.6  \n",
       "2     17.8  392.83   4.03   34.7  \n",
       "3     18.7  394.63   2.94   33.4  \n",
       "4     18.7  396.90   5.33   36.2  "
      ],
      "text/html": [
       "<div>\n",
       "<style scoped>\n",
       "    .dataframe tbody tr th:only-of-type {\n",
       "        vertical-align: middle;\n",
       "    }\n",
       "\n",
       "    .dataframe tbody tr th {\n",
       "        vertical-align: top;\n",
       "    }\n",
       "\n",
       "    .dataframe thead th {\n",
       "        text-align: right;\n",
       "    }\n",
       "</style>\n",
       "<table border=\"1\" class=\"dataframe\">\n",
       "  <thead>\n",
       "    <tr style=\"text-align: right;\">\n",
       "      <th></th>\n",
       "      <th>CRIM</th>\n",
       "      <th>ZN</th>\n",
       "      <th>INDUS</th>\n",
       "      <th>CHAS</th>\n",
       "      <th>NOX</th>\n",
       "      <th>RM</th>\n",
       "      <th>AGE</th>\n",
       "      <th>DIS</th>\n",
       "      <th>RAD</th>\n",
       "      <th>TAX</th>\n",
       "      <th>PTRATIO</th>\n",
       "      <th>B</th>\n",
       "      <th>LSTAT</th>\n",
       "      <th>price</th>\n",
       "    </tr>\n",
       "  </thead>\n",
       "  <tbody>\n",
       "    <tr>\n",
       "      <th>0</th>\n",
       "      <td>0.00632</td>\n",
       "      <td>18.0</td>\n",
       "      <td>2.31</td>\n",
       "      <td>0.0</td>\n",
       "      <td>0.538</td>\n",
       "      <td>6.575</td>\n",
       "      <td>65.2</td>\n",
       "      <td>4.0900</td>\n",
       "      <td>1.0</td>\n",
       "      <td>296.0</td>\n",
       "      <td>15.3</td>\n",
       "      <td>396.90</td>\n",
       "      <td>4.98</td>\n",
       "      <td>24.0</td>\n",
       "    </tr>\n",
       "    <tr>\n",
       "      <th>1</th>\n",
       "      <td>0.02731</td>\n",
       "      <td>0.0</td>\n",
       "      <td>7.07</td>\n",
       "      <td>0.0</td>\n",
       "      <td>0.469</td>\n",
       "      <td>6.421</td>\n",
       "      <td>78.9</td>\n",
       "      <td>4.9671</td>\n",
       "      <td>2.0</td>\n",
       "      <td>242.0</td>\n",
       "      <td>17.8</td>\n",
       "      <td>396.90</td>\n",
       "      <td>9.14</td>\n",
       "      <td>21.6</td>\n",
       "    </tr>\n",
       "    <tr>\n",
       "      <th>2</th>\n",
       "      <td>0.02729</td>\n",
       "      <td>0.0</td>\n",
       "      <td>7.07</td>\n",
       "      <td>0.0</td>\n",
       "      <td>0.469</td>\n",
       "      <td>7.185</td>\n",
       "      <td>61.1</td>\n",
       "      <td>4.9671</td>\n",
       "      <td>2.0</td>\n",
       "      <td>242.0</td>\n",
       "      <td>17.8</td>\n",
       "      <td>392.83</td>\n",
       "      <td>4.03</td>\n",
       "      <td>34.7</td>\n",
       "    </tr>\n",
       "    <tr>\n",
       "      <th>3</th>\n",
       "      <td>0.03237</td>\n",
       "      <td>0.0</td>\n",
       "      <td>2.18</td>\n",
       "      <td>0.0</td>\n",
       "      <td>0.458</td>\n",
       "      <td>6.998</td>\n",
       "      <td>45.8</td>\n",
       "      <td>6.0622</td>\n",
       "      <td>3.0</td>\n",
       "      <td>222.0</td>\n",
       "      <td>18.7</td>\n",
       "      <td>394.63</td>\n",
       "      <td>2.94</td>\n",
       "      <td>33.4</td>\n",
       "    </tr>\n",
       "    <tr>\n",
       "      <th>4</th>\n",
       "      <td>0.06905</td>\n",
       "      <td>0.0</td>\n",
       "      <td>2.18</td>\n",
       "      <td>0.0</td>\n",
       "      <td>0.458</td>\n",
       "      <td>7.147</td>\n",
       "      <td>54.2</td>\n",
       "      <td>6.0622</td>\n",
       "      <td>3.0</td>\n",
       "      <td>222.0</td>\n",
       "      <td>18.7</td>\n",
       "      <td>396.90</td>\n",
       "      <td>5.33</td>\n",
       "      <td>36.2</td>\n",
       "    </tr>\n",
       "  </tbody>\n",
       "</table>\n",
       "</div>"
      ]
     },
     "metadata": {},
     "execution_count": 75
    }
   ],
   "metadata": {}
  },
  {
   "cell_type": "code",
   "execution_count": 76,
   "source": [
    "from sklearn.model_selection import train_test_split\r\n",
    "X_train, X_test, y_train, y_test = train_test_split(X, Y, test_size=0.1, random_state=42)\r\n",
    "X_train, X_valid, y_train, y_valid = train_test_split(X_train, y_train, test_size=0.1, random_state=42)\r\n",
    "print(X_train.shape)\r\n",
    "print(X_valid.shape)\r\n",
    "print(X_test.shape)"
   ],
   "outputs": [
    {
     "output_type": "stream",
     "name": "stdout",
     "text": [
      "(409, 13)\n",
      "(46, 13)\n",
      "(51, 13)\n"
     ]
    }
   ],
   "metadata": {}
  },
  {
   "cell_type": "code",
   "execution_count": 77,
   "source": [
    "ss_x = StandardScaler().fit(X_train)\r\n",
    "ss_y = StandardScaler().fit(y_train)\r\n",
    "\r\n",
    "X_train = ss_x.transform(X_train)\r\n",
    "X_valid = ss_x.transform(X_valid)\r\n",
    "X_test = ss_x.transform(X_test)\r\n",
    "\r\n",
    "y_train = ss_y.transform(y_train)\r\n",
    "y_valid = ss_y.transform(y_valid)\r\n",
    "y_test = ss_y.transform(y_test)"
   ],
   "outputs": [],
   "metadata": {}
  },
  {
   "cell_type": "code",
   "execution_count": 78,
   "source": [
    "clf = TabNetRegressor()\r\n",
    "clf.fit(\r\n",
    "  X_train, y_train,\r\n",
    "  eval_set=[(X_valid, y_valid)]\r\n",
    ")\r\n",
    "preds = clf.predict(X_test)"
   ],
   "outputs": [
    {
     "output_type": "stream",
     "name": "stdout",
     "text": [
      "Device used : cuda\n",
      "epoch 0  | loss: 4.77045 | val_0_mse: 2.93553 |  0:00:00s\n",
      "epoch 1  | loss: 2.6925  | val_0_mse: 1.61917 |  0:00:00s\n",
      "epoch 2  | loss: 1.32452 | val_0_mse: 0.84325 |  0:00:00s\n",
      "epoch 3  | loss: 0.93684 | val_0_mse: 0.64521 |  0:00:00s\n",
      "epoch 4  | loss: 0.82038 | val_0_mse: 0.65457 |  0:00:00s\n",
      "epoch 5  | loss: 0.745   | val_0_mse: 0.58394 |  0:00:00s\n",
      "epoch 6  | loss: 0.56769 | val_0_mse: 0.4761  |  0:00:00s\n",
      "epoch 7  | loss: 0.65078 | val_0_mse: 0.40454 |  0:00:00s\n",
      "epoch 8  | loss: 0.48733 | val_0_mse: 0.40431 |  0:00:00s\n",
      "epoch 9  | loss: 0.38038 | val_0_mse: 0.42913 |  0:00:00s\n",
      "epoch 10 | loss: 0.37039 | val_0_mse: 0.3672  |  0:00:00s\n",
      "epoch 11 | loss: 0.3476  | val_0_mse: 0.33285 |  0:00:00s\n",
      "epoch 12 | loss: 0.34849 | val_0_mse: 0.34856 |  0:00:00s\n",
      "epoch 13 | loss: 0.32515 | val_0_mse: 0.29732 |  0:00:01s\n",
      "epoch 14 | loss: 0.34412 | val_0_mse: 0.19705 |  0:00:01s\n",
      "epoch 15 | loss: 0.29355 | val_0_mse: 0.31872 |  0:00:01s\n",
      "epoch 16 | loss: 0.2785  | val_0_mse: 0.2854  |  0:00:01s\n",
      "epoch 17 | loss: 0.24512 | val_0_mse: 0.24448 |  0:00:01s\n",
      "epoch 18 | loss: 0.26104 | val_0_mse: 0.23882 |  0:00:01s\n",
      "epoch 19 | loss: 0.25164 | val_0_mse: 0.24433 |  0:00:01s\n",
      "epoch 20 | loss: 0.24021 | val_0_mse: 0.22915 |  0:00:01s\n",
      "epoch 21 | loss: 0.19478 | val_0_mse: 0.21208 |  0:00:01s\n",
      "epoch 22 | loss: 0.18291 | val_0_mse: 0.19794 |  0:00:01s\n",
      "epoch 23 | loss: 0.20744 | val_0_mse: 0.17331 |  0:00:01s\n",
      "epoch 24 | loss: 0.19891 | val_0_mse: 0.16456 |  0:00:01s\n",
      "epoch 25 | loss: 0.20166 | val_0_mse: 0.17636 |  0:00:01s\n",
      "epoch 26 | loss: 0.18566 | val_0_mse: 0.17512 |  0:00:01s\n",
      "epoch 27 | loss: 0.1651  | val_0_mse: 0.15876 |  0:00:01s\n",
      "epoch 28 | loss: 0.18066 | val_0_mse: 0.13666 |  0:00:02s\n",
      "epoch 29 | loss: 0.18593 | val_0_mse: 0.13088 |  0:00:02s\n",
      "epoch 30 | loss: 0.17784 | val_0_mse: 0.1218  |  0:00:02s\n",
      "epoch 31 | loss: 0.18632 | val_0_mse: 0.11829 |  0:00:02s\n",
      "epoch 32 | loss: 0.16437 | val_0_mse: 0.12054 |  0:00:02s\n",
      "epoch 33 | loss: 0.17643 | val_0_mse: 0.12736 |  0:00:02s\n",
      "epoch 34 | loss: 0.1366  | val_0_mse: 0.13882 |  0:00:02s\n",
      "epoch 35 | loss: 0.14363 | val_0_mse: 0.14938 |  0:00:02s\n",
      "epoch 36 | loss: 0.18517 | val_0_mse: 0.1536  |  0:00:02s\n",
      "epoch 37 | loss: 0.14917 | val_0_mse: 0.15943 |  0:00:02s\n",
      "epoch 38 | loss: 0.14237 | val_0_mse: 0.15779 |  0:00:02s\n",
      "epoch 39 | loss: 0.14489 | val_0_mse: 0.16373 |  0:00:02s\n",
      "epoch 40 | loss: 0.14583 | val_0_mse: 0.17994 |  0:00:02s\n",
      "epoch 41 | loss: 0.14355 | val_0_mse: 0.17242 |  0:00:02s\n",
      "\n",
      "Early stopping occurred at epoch 41 with best_epoch = 31 and best_val_0_mse = 0.11829\n",
      "Best weights from best epoch are automatically used!\n"
     ]
    }
   ],
   "metadata": {}
  },
  {
   "cell_type": "code",
   "execution_count": 79,
   "source": [
    "from sklearn.metrics import r2_score\r\n",
    "r2_score(preds,y_test)"
   ],
   "outputs": [
    {
     "output_type": "execute_result",
     "data": {
      "text/plain": [
       "0.8450271836149967"
      ]
     },
     "metadata": {},
     "execution_count": 79
    }
   ],
   "metadata": {}
  },
  {
   "cell_type": "code",
   "execution_count": 80,
   "source": [
    "preds = clf.predict(X_train)\r\n",
    "r2_score(preds,y_train)"
   ],
   "outputs": [
    {
     "output_type": "execute_result",
     "data": {
      "text/plain": [
       "0.8219784204923697"
      ]
     },
     "metadata": {},
     "execution_count": 80
    }
   ],
   "metadata": {}
  },
  {
   "cell_type": "code",
   "execution_count": 88,
   "source": [
    "import xgboost\r\n",
    "\r\n",
    "xgb = xgboost.XGBRegressor()\r\n",
    "xgb.fit(X_train,y_train,eval_set=[(X_valid,y_valid)])"
   ],
   "outputs": [
    {
     "output_type": "stream",
     "name": "stdout",
     "text": [
      "[0]\tvalidation_0-rmse:0.75416\n",
      "[1]\tvalidation_0-rmse:0.58128\n",
      "[2]\tvalidation_0-rmse:0.46119\n",
      "[3]\tvalidation_0-rmse:0.40276\n",
      "[4]\tvalidation_0-rmse:0.34923\n",
      "[5]\tvalidation_0-rmse:0.31663\n",
      "[6]\tvalidation_0-rmse:0.31190\n",
      "[7]\tvalidation_0-rmse:0.30803\n",
      "[8]\tvalidation_0-rmse:0.29989\n",
      "[9]\tvalidation_0-rmse:0.29944\n",
      "[10]\tvalidation_0-rmse:0.28957\n",
      "[11]\tvalidation_0-rmse:0.29101\n",
      "[12]\tvalidation_0-rmse:0.28346\n",
      "[13]\tvalidation_0-rmse:0.28275\n",
      "[14]\tvalidation_0-rmse:0.28117\n",
      "[15]\tvalidation_0-rmse:0.27730\n",
      "[16]\tvalidation_0-rmse:0.27646\n",
      "[17]\tvalidation_0-rmse:0.27407\n",
      "[18]\tvalidation_0-rmse:0.27373\n",
      "[19]\tvalidation_0-rmse:0.27348\n",
      "[20]\tvalidation_0-rmse:0.27337\n",
      "[21]\tvalidation_0-rmse:0.27338\n",
      "[22]\tvalidation_0-rmse:0.27296\n",
      "[23]\tvalidation_0-rmse:0.27249\n",
      "[24]\tvalidation_0-rmse:0.27295\n",
      "[25]\tvalidation_0-rmse:0.27359\n",
      "[26]\tvalidation_0-rmse:0.27354\n",
      "[27]\tvalidation_0-rmse:0.27266\n",
      "[28]\tvalidation_0-rmse:0.27326\n",
      "[29]\tvalidation_0-rmse:0.27500\n",
      "[30]\tvalidation_0-rmse:0.27400\n",
      "[31]\tvalidation_0-rmse:0.27399\n",
      "[32]\tvalidation_0-rmse:0.27371\n",
      "[33]\tvalidation_0-rmse:0.27321\n",
      "[34]\tvalidation_0-rmse:0.27253\n",
      "[35]\tvalidation_0-rmse:0.27327\n",
      "[36]\tvalidation_0-rmse:0.27258\n",
      "[37]\tvalidation_0-rmse:0.27217\n",
      "[38]\tvalidation_0-rmse:0.27222\n",
      "[39]\tvalidation_0-rmse:0.27194\n",
      "[40]\tvalidation_0-rmse:0.27172\n",
      "[41]\tvalidation_0-rmse:0.27115\n",
      "[42]\tvalidation_0-rmse:0.27083\n",
      "[43]\tvalidation_0-rmse:0.27109\n",
      "[44]\tvalidation_0-rmse:0.27127\n",
      "[45]\tvalidation_0-rmse:0.27160\n",
      "[46]\tvalidation_0-rmse:0.27181\n",
      "[47]\tvalidation_0-rmse:0.27160\n",
      "[48]\tvalidation_0-rmse:0.27171\n",
      "[49]\tvalidation_0-rmse:0.27225\n",
      "[50]\tvalidation_0-rmse:0.27202\n",
      "[51]\tvalidation_0-rmse:0.27178\n",
      "[52]\tvalidation_0-rmse:0.27180\n",
      "[53]\tvalidation_0-rmse:0.27163\n",
      "[54]\tvalidation_0-rmse:0.27134\n",
      "[55]\tvalidation_0-rmse:0.27163\n",
      "[56]\tvalidation_0-rmse:0.27169\n",
      "[57]\tvalidation_0-rmse:0.27169\n",
      "[58]\tvalidation_0-rmse:0.27174\n",
      "[59]\tvalidation_0-rmse:0.27169\n",
      "[60]\tvalidation_0-rmse:0.27170\n",
      "[61]\tvalidation_0-rmse:0.27168\n",
      "[62]\tvalidation_0-rmse:0.27222\n",
      "[63]\tvalidation_0-rmse:0.27214\n",
      "[64]\tvalidation_0-rmse:0.27213\n",
      "[65]\tvalidation_0-rmse:0.27237\n",
      "[66]\tvalidation_0-rmse:0.27219\n",
      "[67]\tvalidation_0-rmse:0.27205\n",
      "[68]\tvalidation_0-rmse:0.27206\n",
      "[69]\tvalidation_0-rmse:0.27215\n",
      "[70]\tvalidation_0-rmse:0.27209\n",
      "[71]\tvalidation_0-rmse:0.27228\n",
      "[72]\tvalidation_0-rmse:0.27223\n",
      "[73]\tvalidation_0-rmse:0.27206\n",
      "[74]\tvalidation_0-rmse:0.27208\n",
      "[75]\tvalidation_0-rmse:0.27214\n",
      "[76]\tvalidation_0-rmse:0.27224\n",
      "[77]\tvalidation_0-rmse:0.27228\n",
      "[78]\tvalidation_0-rmse:0.27215\n",
      "[79]\tvalidation_0-rmse:0.27223\n",
      "[80]\tvalidation_0-rmse:0.27206\n",
      "[81]\tvalidation_0-rmse:0.27204\n",
      "[82]\tvalidation_0-rmse:0.27205\n",
      "[83]\tvalidation_0-rmse:0.27192\n",
      "[84]\tvalidation_0-rmse:0.27187\n",
      "[85]\tvalidation_0-rmse:0.27187\n",
      "[86]\tvalidation_0-rmse:0.27190\n",
      "[87]\tvalidation_0-rmse:0.27183\n",
      "[88]\tvalidation_0-rmse:0.27178\n",
      "[89]\tvalidation_0-rmse:0.27178\n",
      "[90]\tvalidation_0-rmse:0.27183\n",
      "[91]\tvalidation_0-rmse:0.27181\n",
      "[92]\tvalidation_0-rmse:0.27186\n",
      "[93]\tvalidation_0-rmse:0.27192\n",
      "[94]\tvalidation_0-rmse:0.27188\n",
      "[95]\tvalidation_0-rmse:0.27188\n",
      "[96]\tvalidation_0-rmse:0.27189\n",
      "[97]\tvalidation_0-rmse:0.27187\n",
      "[98]\tvalidation_0-rmse:0.27188\n",
      "[99]\tvalidation_0-rmse:0.27193\n"
     ]
    },
    {
     "output_type": "execute_result",
     "data": {
      "text/plain": [
       "XGBRegressor(base_score=0.5, booster='gbtree', colsample_bylevel=1,\n",
       "             colsample_bynode=1, colsample_bytree=1, gamma=0, gpu_id=-1,\n",
       "             importance_type='gain', interaction_constraints='',\n",
       "             learning_rate=0.300000012, max_delta_step=0, max_depth=6,\n",
       "             min_child_weight=1, missing=nan, monotone_constraints='()',\n",
       "             n_estimators=100, n_jobs=4, num_parallel_tree=1, random_state=0,\n",
       "             reg_alpha=0, reg_lambda=1, scale_pos_weight=1, subsample=1,\n",
       "             tree_method='exact', validate_parameters=1, verbosity=None)"
      ]
     },
     "metadata": {},
     "execution_count": 88
    }
   ],
   "metadata": {}
  },
  {
   "cell_type": "code",
   "execution_count": 86,
   "source": [
    "preds = xgb.predict(X_test)\r\n",
    "r2_score(preds,y_test)"
   ],
   "outputs": [
    {
     "output_type": "execute_result",
     "data": {
      "text/plain": [
       "0.8359417912694859"
      ]
     },
     "metadata": {},
     "execution_count": 86
    }
   ],
   "metadata": {}
  },
  {
   "cell_type": "code",
   "execution_count": null,
   "source": [],
   "outputs": [],
   "metadata": {}
  }
 ],
 "metadata": {
  "orig_nbformat": 4,
  "language_info": {
   "name": "python",
   "version": "3.8.3",
   "mimetype": "text/x-python",
   "codemirror_mode": {
    "name": "ipython",
    "version": 3
   },
   "pygments_lexer": "ipython3",
   "nbconvert_exporter": "python",
   "file_extension": ".py"
  },
  "kernelspec": {
   "name": "python3",
   "display_name": "Python 3.8.3 64-bit ('base': conda)"
  },
  "interpreter": {
   "hash": "67850ea2aeb1dc41e111180fab12737ec1e014bd74fe6ccafc8a9315d74a4a04"
  }
 },
 "nbformat": 4,
 "nbformat_minor": 2
}